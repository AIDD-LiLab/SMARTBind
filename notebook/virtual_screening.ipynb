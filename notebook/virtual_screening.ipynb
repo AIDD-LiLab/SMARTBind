{
 "cells": [
  {
   "metadata": {},
   "cell_type": "markdown",
   "source": [
    "## Virtual Screening with SmartBind\n",
    "Here we take a RNA sequence as an input, and a list of SMILES strings as a ligand library. We will obtain a sorted \n",
    "list of ligands based on their binding scores predicted by SmartBind."
   ],
   "id": "3ff530e9bb782ab4"
  },
  {
   "metadata": {},
   "cell_type": "code",
   "source": [
    "import sys\n",
    "sys.path.append(\"..\") \n",
    "import pandas as pd\n",
    "from smartbind.preprocess import convert_smiles_to_pf2\n",
    "from smartbind import load_smartbind_models\n",
    "from smartbind import logger\n",
    "from torch.nn.functional import cosine_similarity\n",
    "import tqdm"
   ],
   "id": "80f5f69c7d8c5942",
   "outputs": [],
   "execution_count": null
  },
  {
   "metadata": {},
   "cell_type": "markdown",
   "source": "#### Set up inputs",
   "id": "7c704ebec43201f0"
  },
  {
   "metadata": {},
   "cell_type": "code",
   "source": [
    "input_rna_chain = 'GACAGCUGCUGUC'\n",
    "smiles_txt_path = 'ligand_library.txt'  # Example SMILES file\n",
    "ensembled_models_path = '../SMARTBind_weight'\n",
    "save_path = 'binding_score.txt'\n",
    "device = 'cpu'\n",
    "batch_size = 10000"
   ],
   "id": "5405b83b5ef1858f",
   "outputs": [],
   "execution_count": null
  },
  {
   "metadata": {},
   "cell_type": "markdown",
   "source": "#### Make prediction",
   "id": "5fa4cc330fc1bcb9"
  },
  {
   "metadata": {},
   "cell_type": "code",
   "source": [
    "with open(smiles_txt_path, 'r') as f:\n",
    "    smiles_list = f.read().splitlines()\n",
    "smol_fp2_list = [convert_smiles_to_pf2(smol_smiles) for smol_smiles in smiles_list]"
   ],
   "id": "db671aec6d1626cf",
   "outputs": [],
   "execution_count": null
  },
  {
   "metadata": {},
   "cell_type": "code",
   "source": [
    "logger.info('Get SmartBind pre-trained model objects')\n",
    "logger.info(f'Loading models from {ensembled_models_path}')\n",
    "smartbind_models = load_smartbind_models(\n",
    "    model_path=ensembled_models_path,\n",
    "    device=device,\n",
    "    vs_mode=True\n",
    "    )"
   ],
   "id": "7ed964588a1e87a6",
   "outputs": [],
   "execution_count": null
  },
  {
   "metadata": {},
   "cell_type": "code",
   "source": [
    "rank_result_by_models = {}\n",
    "\n",
    "for model in tqdm.tqdm(smartbind_models, desc='Predicting binding scores by models'):\n",
    "    rna_embed = model.inference_single_rna(input_rna_chain)\n",
    "    \n",
    "    rank_result_by_models[smartbind_models.index(model)] = []\n",
    "    num_batches = len(smol_fp2_list) // batch_size\n",
    "    if len(smol_fp2_list) % batch_size != 0:\n",
    "        num_batches += 1\n",
    "    for i in tqdm.tqdm(range(num_batches), desc='Batching ligands'):\n",
    "        start = i * batch_size\n",
    "        end = min((i + 1) * batch_size, len(smol_fp2_list))\n",
    "        ligand_embeds = model.inference_list_smols(smol_fp2_list[start:end])\n",
    "        similarities = cosine_similarity(rna_embed, ligand_embeds).tolist()\n",
    "        rank_result_by_models[smartbind_models.index(model)].extend(similarities)"
   ],
   "id": "becc3235482bc022",
   "outputs": [],
   "execution_count": null
  },
  {
   "metadata": {},
   "cell_type": "markdown",
   "source": "#### Save the binding scores",
   "id": "4e8ab6a2e2b72d20"
  },
  {
   "metadata": {},
   "cell_type": "code",
   "source": [
    "df = pd.DataFrame(rank_result_by_models)\n",
    "df['average'] = df.mean(axis=1)\n",
    "df.index = smiles_list\n",
    "with open(save_path, 'w') as f:\n",
    "    f.write('Ligand_ID\\tBinding_Score\\n')\n",
    "    for i in range(len(df)):\n",
    "        f.write(f'{df.index[i]}\\t{df.iloc[i].average}\\n')"
   ],
   "id": "4fca956ac4e00044",
   "outputs": [],
   "execution_count": null
  }
 ],
 "metadata": {
  "kernelspec": {
   "display_name": "Python 3",
   "language": "python",
   "name": "python3"
  },
  "language_info": {
   "codemirror_mode": {
    "name": "ipython",
    "version": 2
   },
   "file_extension": ".py",
   "mimetype": "text/x-python",
   "name": "python",
   "nbconvert_exporter": "python",
   "pygments_lexer": "ipython2",
   "version": "2.7.6"
  }
 },
 "nbformat": 4,
 "nbformat_minor": 5
}
