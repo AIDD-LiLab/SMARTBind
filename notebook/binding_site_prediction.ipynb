{
 "cells": [
  {
   "cell_type": "code",
   "id": "initial_id",
   "metadata": {
    "collapsed": true
   },
   "source": [
    "import sys\n",
    "sys.path.append(\"..\") \n",
    "from smartbind.preprocess import convert_smiles_to_pf2\n",
    "from smartbind import BindingPL\n",
    "import os"
   ],
   "outputs": [],
   "execution_count": null
  },
  {
   "cell_type": "code",
   "id": "d3427c57eb947cd0",
   "metadata": {},
   "source": [
    "pos_chain = 'GACAGCUGCUGUC'\n",
    "A1AZL = 'c1cc(ccc1C2=NCCN2CCN)C(=O)Nc3ccc(cc3)C4=NCCN4'\n",
    "A1AZL_fp2 = convert_smiles_to_pf2(A1AZL)"
   ],
   "outputs": [],
   "execution_count": null
  },
  {
   "cell_type": "code",
   "id": "e1c563b0191ee0b8",
   "metadata": {},
   "source": [
    "def predict_binding(target_rna_chain, ligand_fp2, best_model_paths):\n",
    "    binding_site_predictions_dict = {i: [] for i in range(len(target_rna_chain))}\n",
    "    for weight_name in os.listdir(best_model_paths):\n",
    "        weight_path = os.path.join(best_model_paths, weight_name)\n",
    "        smartbind_binding_model = BindingPL(device='cpu', vs_mode=True)\n",
    "        smartbind_binding_model.load_pretrained_model(model_path=weight_path, device='cpu', mode='inference')\n",
    "        binding_prediction = smartbind_binding_model.predict_binding(target_rna_chain, ligand_fp2)\n",
    "        binding_prediction = binding_prediction.detach().numpy()\n",
    "        normalized_binding_prediction = (binding_prediction - min(binding_prediction)) / (max(binding_prediction) - min(binding_prediction)) \n",
    "        for i in range(len(target_rna_chain)):\n",
    "            binding_site_predictions_dict[i].append(normalized_binding_prediction[i])\n",
    "\n",
    "    average_predictions = []\n",
    "    for i in range(len(target_rna_chain)):\n",
    "        average_predictions.append(sum(binding_site_predictions_dict[i]) / 10)\n",
    "\n",
    "    normalized_binding_site_prediction = ((average_predictions - min(average_predictions)) /\n",
    "                                        (max(average_predictions) - min(average_predictions)))\n",
    "    normalized_binding_site_prediction = [round(i, 3) for i in normalized_binding_site_prediction]\n",
    "    normalized_binding_site_prediction = [float(i) for i in normalized_binding_site_prediction]\n",
    "    return normalized_binding_site_prediction"
   ],
   "outputs": [],
   "execution_count": null
  },
  {
   "cell_type": "code",
   "id": "f180b82595b17a53",
   "metadata": {},
   "source": [
    "normalized_binding_site_prediction = predict_binding(pos_chain, A1AZL_fp2, '../SMARTBind_weight')\n",
    "normalized_binding_site_prediction = [round(i, 3) for i in normalized_binding_site_prediction]\n",
    "str(normalized_binding_site_prediction)"
   ],
   "outputs": [],
   "execution_count": null
  }
 ],
 "metadata": {
  "kernelspec": {
   "display_name": "Python 3",
   "language": "python",
   "name": "python3"
  },
  "language_info": {
   "codemirror_mode": {
    "name": "ipython",
    "version": 3
   },
   "file_extension": ".py",
   "mimetype": "text/x-python",
   "name": "python",
   "nbconvert_exporter": "python",
   "pygments_lexer": "ipython3",
   "version": "3.9.21"
  }
 },
 "nbformat": 4,
 "nbformat_minor": 5
}
